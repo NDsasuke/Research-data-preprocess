{
  "nbformat": 4,
  "nbformat_minor": 0,
  "metadata": {
    "colab": {
      "provenance": [],
      "authorship_tag": "ABX9TyNUIKI3HcqCcSYYgPZk7v3y",
      "include_colab_link": true
    },
    "kernelspec": {
      "name": "python3",
      "display_name": "Python 3"
    },
    "language_info": {
      "name": "python"
    }
  },
  "cells": [
    {
      "cell_type": "markdown",
      "metadata": {
        "id": "view-in-github",
        "colab_type": "text"
      },
      "source": [
        "<a href=\"https://colab.research.google.com/github/NDsasuke/Reserch-data-preprocess/blob/main/Research_data_parted_preprocess_2.ipynb\" target=\"_parent\"><img src=\"https://colab.research.google.com/assets/colab-badge.svg\" alt=\"Open In Colab\"/></a>"
      ]
    },
    {
      "cell_type": "code",
      "execution_count": 1,
      "metadata": {
        "colab": {
          "base_uri": "https://localhost:8080/"
        },
        "id": "mOgnTX3ymmG3",
        "outputId": "d3788494-e264-4673-c239-b7a1e2c7d892"
      },
      "outputs": [
        {
          "output_type": "stream",
          "name": "stdout",
          "text": [
            "--2023-03-13 06:14:01--  https://jmcauley.ucsd.edu/data/amazon_v2/metaFiles2/meta_Grocery_and_Gourmet_Food.json.gz\n",
            "Resolving jmcauley.ucsd.edu (jmcauley.ucsd.edu)... 137.110.160.73\n",
            "Connecting to jmcauley.ucsd.edu (jmcauley.ucsd.edu)|137.110.160.73|:443... connected.\n",
            "WARNING: cannot verify jmcauley.ucsd.edu's certificate, issued by ‘CN=InCommon RSA Server CA,OU=InCommon,O=Internet2,L=Ann Arbor,ST=MI,C=US’:\n",
            "  Unable to locally verify the issuer's authority.\n",
            "HTTP request sent, awaiting response... 200 OK\n",
            "Length: 109586529 (105M) [application/x-gzip]\n",
            "Saving to: ‘meta_Grocery_and_Gourmet_Food.json.gz’\n",
            "\n",
            "meta_Grocery_and_Go 100%[===================>] 104.51M  18.9MB/s    in 6.5s    \n",
            "\n",
            "2023-03-13 06:14:09 (16.0 MB/s) - ‘meta_Grocery_and_Gourmet_Food.json.gz’ saved [109586529/109586529]\n",
            "\n"
          ]
        }
      ],
      "source": [
        "!wget https://jmcauley.ucsd.edu/data/amazon_v2/metaFiles2/meta_Grocery_and_Gourmet_Food.json.gz --no-check-certificate"
      ]
    },
    {
      "cell_type": "code",
      "source": [
        "import json\n",
        "import gzip\n",
        "\n",
        "data = []\n",
        "with gzip.open('meta_Grocery_and_Gourmet_Food.json.gz', 'r') as f:\n",
        "    for l in f:\n",
        "        data.append(json.loads(l.strip()))\n",
        "\n",
        "filtered_data = [d for d in data if d['date'] != '']\n",
        "\n",
        "with open('filtered1.json', 'w') as f:\n",
        "    json.dump(filtered_data, f)\n"
      ],
      "metadata": {
        "id": "q3RxPwbvndwN"
      },
      "execution_count": 3,
      "outputs": []
    },
    {
      "cell_type": "code",
      "source": [
        "import json\n",
        "\n",
        "# Open the filtered dataset file for reading\n",
        "with open('filtered1.json', 'r') as f:\n",
        "\n",
        "    # Load the JSON data\n",
        "    data = json.load(f)\n",
        "\n",
        "# Print the number of records in the filtered dataset\n",
        "print(f\"There are {len(data)} records in the filtered dataset.\")\n"
      ],
      "metadata": {
        "colab": {
          "base_uri": "https://localhost:8080/"
        },
        "id": "2gnSuGwFoMRb",
        "outputId": "a7295228-30c2-48cb-83f5-eb6a3369c817"
      },
      "execution_count": 4,
      "outputs": [
        {
          "output_type": "stream",
          "name": "stdout",
          "text": [
            "There are 9662 records in the filtered dataset.\n"
          ]
        }
      ]
    },
    {
      "cell_type": "code",
      "source": [
        "import json\n",
        "\n",
        "# Open the filtered dataset file for reading\n",
        "with open('filtered1.json', 'r') as f:\n",
        "\n",
        "    # Load the JSON data\n",
        "    data = json.load(f)\n",
        "\n",
        "# Filter the data to remove records with null values for the 'title' field\n",
        "filtered_data = [d for d in data if d['title'] != '']\n",
        "\n",
        "# Open a new file for writing the filtered data\n",
        "with open('filtered2.json', 'w') as f:\n",
        "\n",
        "    # Write the filtered data to the file\n",
        "    json.dump(filtered_data, f)\n"
      ],
      "metadata": {
        "id": "RX7hP5aUolWm"
      },
      "execution_count": 5,
      "outputs": []
    },
    {
      "cell_type": "code",
      "source": [
        "import json\n",
        "\n",
        "# Open the filtered dataset file for reading\n",
        "with open('filtered2.json', 'r') as f:\n",
        "\n",
        "    # Load the JSON data\n",
        "    data = json.load(f)\n",
        "\n",
        "# Print the number of records in the filtered dataset\n",
        "print(f\"There are {len(data)} records in the filtered dataset.\")\n"
      ],
      "metadata": {
        "colab": {
          "base_uri": "https://localhost:8080/"
        },
        "id": "4YoUE8aUo2E4",
        "outputId": "abe71da9-10d1-48a6-b418-d37de53c222e"
      },
      "execution_count": 6,
      "outputs": [
        {
          "output_type": "stream",
          "name": "stdout",
          "text": [
            "There are 9662 records in the filtered dataset.\n"
          ]
        }
      ]
    },
    {
      "cell_type": "code",
      "source": [
        "import json\n",
        "\n",
        "# Open the JSON file for reading\n",
        "with open('filtered1.json', 'r') as f:\n",
        "\n",
        "    # Load the JSON data\n",
        "    data = json.load(f)\n",
        "\n",
        "# Print the first record\n",
        "print(data[0])\n"
      ],
      "metadata": {
        "colab": {
          "base_uri": "https://localhost:8080/"
        },
        "id": "n0dyc7xcprG-",
        "outputId": "e219799b-f796-4214-ea41-ce791aa7de81"
      },
      "execution_count": 7,
      "outputs": [
        {
          "output_type": "stream",
          "name": "stdout",
          "text": [
            "{'category': ['Grocery & Gourmet Food', 'Cooking & Baking', 'Frosting, Icing & Decorations', 'Cake & Cupcake Toppers', 'Cake Toppers'], 'tech1': '', 'description': ['Jazz up your cakes with a sparkling monogram from our Sparkling collection! These single letter monograms are silver plated covered in crystal rhinestones and come in several sizes for your convenience. You can use these simple yet elegant monogram cake toppers to make a Sweet 16 even sweeter or use them for a wedding cake to make the cake more special.'], 'fit': '', 'title': 'Letter C - Swarovski Crystal Monogram Wedding Cake Topper Letter', 'also_buy': [], 'tech2': '', 'brand': 'Unik Occasions', 'feature': [], 'rank': ['>#669,941 in Kitchen & Dining (See Top 100 in Kitchen & Dining)', '>#9,899 in Kitchen & Dining > Bakeware > Decorating Tools > Cake & Cupcake Toppers > Cake Toppers'], 'also_view': ['B07DXN65TF'], 'main_cat': 'Amazon Home', 'similar_item': '', 'date': 'September 21, 2010', 'price': '$29.95', 'asin': '1888861118', 'imageURL': [], 'imageURLHighRes': []}\n"
          ]
        }
      ]
    },
    {
      "cell_type": "code",
      "source": [
        "import json\n",
        "\n",
        "# Open the original JSON file for reading\n",
        "with open('filtered1.json', 'r') as f:\n",
        "\n",
        "    # Load the JSON data\n",
        "    data = json.load(f)\n",
        "\n",
        "# Filter the data to remove records where both imageURL and imageURLHighRes have length less than or equal to 10 characters\n",
        "filtered_data = [d for d in data if len(d.get('imageURL', '')) > 10 or len(d.get('imageURLHighRes', '')) > 10]\n",
        "\n",
        "# Open a new file for writing the filtered data\n",
        "with open('filtered3.json', 'w') as f:\n",
        "\n",
        "    # Write the filtered data to the file\n",
        "    json.dump(filtered_data, f)\n"
      ],
      "metadata": {
        "id": "bnY2Q8omqySC"
      },
      "execution_count": 11,
      "outputs": []
    },
    {
      "cell_type": "code",
      "source": [
        "import json\n",
        "\n",
        "# Open the filtered dataset file for reading\n",
        "with open('filtered3.json', 'r') as f:\n",
        "\n",
        "    # Load the JSON data\n",
        "    data = json.load(f)\n",
        "\n",
        "# Print the number of records in the filtered dataset\n",
        "print(f\"There are {len(data)} records in the filtered dataset.\")\n"
      ],
      "metadata": {
        "colab": {
          "base_uri": "https://localhost:8080/"
        },
        "id": "iHMGTMOYq4g7",
        "outputId": "97d1003e-4f42-47dc-cf81-2bd3a779f4c8"
      },
      "execution_count": 12,
      "outputs": [
        {
          "output_type": "stream",
          "name": "stdout",
          "text": [
            "There are 86 records in the filtered dataset.\n"
          ]
        }
      ]
    },
    {
      "cell_type": "code",
      "source": [
        "import json\n",
        "\n",
        "# Open the filtered dataset file for reading\n",
        "with open('filtered3.json', 'r') as f:\n",
        "\n",
        "    # Load the JSON data\n",
        "    data = json.load(f)\n",
        "\n",
        "# Print the first record\n",
        "print(data[0])\n"
      ],
      "metadata": {
        "colab": {
          "base_uri": "https://localhost:8080/"
        },
        "id": "rCT6uI8nsz8A",
        "outputId": "4cb28f7f-ea7b-41ec-953b-390e4b62de82"
      },
      "execution_count": 16,
      "outputs": [
        {
          "output_type": "stream",
          "name": "stdout",
          "text": [
            "{'category': ['Grocery & Gourmet Food', 'Cooking & Baking', 'Frosting, Icing & Decorations', 'Frostings & Icings'], 'tech1': '', 'description': ['Wilton-color mist food color spray. This easy-to-use spray gives decorators the versatility and dazzling effects of an airbrush in a convenient can! creates a rainbow of excitement for so many desserts. Use it to transform a plain Iced cake with sensational color add splashes of holiday color to Iced cookies and cupcakes. Great for party desserts: highlighting whipped topping or ice cream with color. No mess taste-free formula add a little color or a lot. Certified kosher. 1-1/2 oz can. Available in a variety of colors: each sold separately. Made in USA.'], 'fit': '', 'title': 'Wilton 710-5506 Color Mist Spray 1.5oz, Black', 'also_buy': ['B01G2FVPEG', 'B007EMYHB0', 'B01E07USC8', 'B003YJ14OU', 'B00IE72K04', 'B00IE6Y6J8', 'B0000CFN7Q', 'B00PR3GAY0', 'B00F6ARC1E', 'B003KK42V0', 'B00LX3FQ5C', 'B000FRUNL4', 'B00AV4Y40W', 'B078K643X6', 'B006NV880O', 'B0000A1OEK', 'B003KK9HD8', 'B005FCOUOA', 'B000W5CGR8', 'B00IE72SWY', 'B00129JSSI', 'B00IE72KRW', 'B0000VLH8S', 'B0017JVH5A', 'B0061TXSOE', 'B00TM6WZO2', 'B00GXT16G4', 'B00AEHO3VG', 'B01E0JZNGM', 'B0016KTNF6', 'B0000VM9EE', 'B017MUOPBK', 'B0000CFN0Y', 'B0000AE5ZF', 'B012ECUEWA'], 'tech2': '', 'brand': 'Wilton', 'feature': ['1.5 oz. Can', 'Certified kosher', 'Made in united states'], 'rank': ['>#23,386 in Kitchen & Dining (See Top 100 in Kitchen & Dining)', '>#31 in Grocery & Gourmet Food > Cooking & Baking > Frosting, Icing & Decorations > Frostings & Icings', '>#32,027 in Home & Kitchen > Kitchen & Dining'], 'also_view': ['B071H8WHWF', 'B072DWSQTH', 'B0046DAWZU', 'B0033LVD40', 'B0046CKTPE', 'B07843LJF5', 'B077NXN17B', 'B0716CMRJW', 'B07192XF5F', 'B07DWKPV2G', 'B000VTBFKE', 'B001OZS2ZA', 'B00IE727OI', 'B07K52186M', 'B001WT22AE', 'B07DWKS299', 'B01N16KIKC', 'B07KZ9F1H7', 'B078K643X6', 'B002XN1YUW', 'B003KK9HD8', 'B00CI1W5JI', 'B078964QTV', 'B003YJ14OU', 'B00IE6Y6J8', 'B007KBBDLC', 'B003YJ14QS', 'B0001XXB02', 'B073Y8JX1B', 'B001T4OOOE', 'B002XN5HPU', 'B07875JHK9', 'B0001W6NTO', 'B00QT6WTIA', 'B006NV880O', 'B073Y8THL3', 'B00CRJA5N4', 'B00076TQ1G', 'B0000AE5ZF', 'B0000CFN0Y', 'B07CVCV9M1', 'B00IE72JT6', 'B01G2FVPEG', 'B006K3RKEU', 'B07KZQSCCD'], 'details': {}, 'main_cat': 'Amazon Home', 'similar_item': '', 'date': 'March 10, 2004', 'price': '$3.00', 'asin': 'B0000CFH7B', 'imageURL': ['https://images-na.ssl-images-amazon.com/images/I/41gC2lzKjYL._SS36_.jpg', 'https://images-na.ssl-images-amazon.com/images/I/41U6znBwEBL._SS36_.jpg', 'https://images-na.ssl-images-amazon.com/images/I/41813koDosL._SS36_.jpg', 'https://images-na.ssl-images-amazon.com/images/I/41KkAuTVvdL._SS36_.jpg', 'https://images-na.ssl-images-amazon.com/images/I/31yO%2Bh6DeaL._SS36_.jpg', 'https://images-na.ssl-images-amazon.com/images/I/41uaUE7ELwL._SS36_.jpg', 'https://images-na.ssl-images-amazon.com/images/I/41EpMFiSVXL._SS36_.jpg', 'https://images-na.ssl-images-amazon.com/images/I/31VcTjdz4EL._SS36_.jpg', 'https://images-na.ssl-images-amazon.com/images/I/31NGuVAp12L._SS36_.jpg', 'https://images-na.ssl-images-amazon.com/images/I/31NGuVAp12L._SS36_.jpg', 'https://images-na.ssl-images-amazon.com/images/I/31C%2BnjEeakL._SS36_.jpg'], 'imageURLHighRes': ['https://images-na.ssl-images-amazon.com/images/I/41gC2lzKjYL.jpg', 'https://images-na.ssl-images-amazon.com/images/I/41U6znBwEBL.jpg', 'https://images-na.ssl-images-amazon.com/images/I/41813koDosL.jpg', 'https://images-na.ssl-images-amazon.com/images/I/41KkAuTVvdL.jpg', 'https://images-na.ssl-images-amazon.com/images/I/31yO%2Bh6DeaL.jpg', 'https://images-na.ssl-images-amazon.com/images/I/41uaUE7ELwL.jpg', 'https://images-na.ssl-images-amazon.com/images/I/41EpMFiSVXL.jpg', 'https://images-na.ssl-images-amazon.com/images/I/31VcTjdz4EL.jpg', 'https://images-na.ssl-images-amazon.com/images/I/31NGuVAp12L.jpg', 'https://images-na.ssl-images-amazon.com/images/I/31NGuVAp12L.jpg', 'https://images-na.ssl-images-amazon.com/images/I/31C%2BnjEeakL.jpg']}\n"
          ]
        }
      ]
    },
    {
      "cell_type": "code",
      "source": [
        "import json\n",
        "\n",
        "with open('/content/filtered3.json', 'r') as f:\n",
        "    data = json.load(f)\n",
        "\n",
        "for item in data:\n",
        "    del item['tech1']\n",
        "    del item['tech2']\n",
        "    del item['fit']\n",
        "    del item['details']\n",
        "\n",
        "with open('filterd4.json', 'w') as f:\n",
        "    json.dump(data, f)\n"
      ],
      "metadata": {
        "id": "-v0WVingu6M2"
      },
      "execution_count": 19,
      "outputs": []
    },
    {
      "cell_type": "code",
      "source": [
        "import json\n",
        "\n",
        "# Open the filtered dataset file for reading\n",
        "with open('filterd4.json', 'r') as f:\n",
        "\n",
        "    # Load the JSON data\n",
        "    data = json.load(f)\n",
        "\n",
        "# Print the first record\n",
        "print(data[0])"
      ],
      "metadata": {
        "colab": {
          "base_uri": "https://localhost:8080/"
        },
        "id": "Go78EPUbvam0",
        "outputId": "8f07b0ca-f13f-4cef-f875-2b72dcda980b"
      },
      "execution_count": 22,
      "outputs": [
        {
          "output_type": "stream",
          "name": "stdout",
          "text": [
            "{'category': ['Grocery & Gourmet Food', 'Cooking & Baking', 'Frosting, Icing & Decorations', 'Frostings & Icings'], 'description': ['Wilton-color mist food color spray. This easy-to-use spray gives decorators the versatility and dazzling effects of an airbrush in a convenient can! creates a rainbow of excitement for so many desserts. Use it to transform a plain Iced cake with sensational color add splashes of holiday color to Iced cookies and cupcakes. Great for party desserts: highlighting whipped topping or ice cream with color. No mess taste-free formula add a little color or a lot. Certified kosher. 1-1/2 oz can. Available in a variety of colors: each sold separately. Made in USA.'], 'title': 'Wilton 710-5506 Color Mist Spray 1.5oz, Black', 'also_buy': ['B01G2FVPEG', 'B007EMYHB0', 'B01E07USC8', 'B003YJ14OU', 'B00IE72K04', 'B00IE6Y6J8', 'B0000CFN7Q', 'B00PR3GAY0', 'B00F6ARC1E', 'B003KK42V0', 'B00LX3FQ5C', 'B000FRUNL4', 'B00AV4Y40W', 'B078K643X6', 'B006NV880O', 'B0000A1OEK', 'B003KK9HD8', 'B005FCOUOA', 'B000W5CGR8', 'B00IE72SWY', 'B00129JSSI', 'B00IE72KRW', 'B0000VLH8S', 'B0017JVH5A', 'B0061TXSOE', 'B00TM6WZO2', 'B00GXT16G4', 'B00AEHO3VG', 'B01E0JZNGM', 'B0016KTNF6', 'B0000VM9EE', 'B017MUOPBK', 'B0000CFN0Y', 'B0000AE5ZF', 'B012ECUEWA'], 'brand': 'Wilton', 'feature': ['1.5 oz. Can', 'Certified kosher', 'Made in united states'], 'rank': ['>#23,386 in Kitchen & Dining (See Top 100 in Kitchen & Dining)', '>#31 in Grocery & Gourmet Food > Cooking & Baking > Frosting, Icing & Decorations > Frostings & Icings', '>#32,027 in Home & Kitchen > Kitchen & Dining'], 'also_view': ['B071H8WHWF', 'B072DWSQTH', 'B0046DAWZU', 'B0033LVD40', 'B0046CKTPE', 'B07843LJF5', 'B077NXN17B', 'B0716CMRJW', 'B07192XF5F', 'B07DWKPV2G', 'B000VTBFKE', 'B001OZS2ZA', 'B00IE727OI', 'B07K52186M', 'B001WT22AE', 'B07DWKS299', 'B01N16KIKC', 'B07KZ9F1H7', 'B078K643X6', 'B002XN1YUW', 'B003KK9HD8', 'B00CI1W5JI', 'B078964QTV', 'B003YJ14OU', 'B00IE6Y6J8', 'B007KBBDLC', 'B003YJ14QS', 'B0001XXB02', 'B073Y8JX1B', 'B001T4OOOE', 'B002XN5HPU', 'B07875JHK9', 'B0001W6NTO', 'B00QT6WTIA', 'B006NV880O', 'B073Y8THL3', 'B00CRJA5N4', 'B00076TQ1G', 'B0000AE5ZF', 'B0000CFN0Y', 'B07CVCV9M1', 'B00IE72JT6', 'B01G2FVPEG', 'B006K3RKEU', 'B07KZQSCCD'], 'main_cat': 'Amazon Home', 'similar_item': '', 'date': 'March 10, 2004', 'price': '$3.00', 'asin': 'B0000CFH7B', 'imageURL': ['https://images-na.ssl-images-amazon.com/images/I/41gC2lzKjYL._SS36_.jpg', 'https://images-na.ssl-images-amazon.com/images/I/41U6znBwEBL._SS36_.jpg', 'https://images-na.ssl-images-amazon.com/images/I/41813koDosL._SS36_.jpg', 'https://images-na.ssl-images-amazon.com/images/I/41KkAuTVvdL._SS36_.jpg', 'https://images-na.ssl-images-amazon.com/images/I/31yO%2Bh6DeaL._SS36_.jpg', 'https://images-na.ssl-images-amazon.com/images/I/41uaUE7ELwL._SS36_.jpg', 'https://images-na.ssl-images-amazon.com/images/I/41EpMFiSVXL._SS36_.jpg', 'https://images-na.ssl-images-amazon.com/images/I/31VcTjdz4EL._SS36_.jpg', 'https://images-na.ssl-images-amazon.com/images/I/31NGuVAp12L._SS36_.jpg', 'https://images-na.ssl-images-amazon.com/images/I/31NGuVAp12L._SS36_.jpg', 'https://images-na.ssl-images-amazon.com/images/I/31C%2BnjEeakL._SS36_.jpg'], 'imageURLHighRes': ['https://images-na.ssl-images-amazon.com/images/I/41gC2lzKjYL.jpg', 'https://images-na.ssl-images-amazon.com/images/I/41U6znBwEBL.jpg', 'https://images-na.ssl-images-amazon.com/images/I/41813koDosL.jpg', 'https://images-na.ssl-images-amazon.com/images/I/41KkAuTVvdL.jpg', 'https://images-na.ssl-images-amazon.com/images/I/31yO%2Bh6DeaL.jpg', 'https://images-na.ssl-images-amazon.com/images/I/41uaUE7ELwL.jpg', 'https://images-na.ssl-images-amazon.com/images/I/41EpMFiSVXL.jpg', 'https://images-na.ssl-images-amazon.com/images/I/31VcTjdz4EL.jpg', 'https://images-na.ssl-images-amazon.com/images/I/31NGuVAp12L.jpg', 'https://images-na.ssl-images-amazon.com/images/I/31NGuVAp12L.jpg', 'https://images-na.ssl-images-amazon.com/images/I/31C%2BnjEeakL.jpg']}\n"
          ]
        }
      ]
    },
    {
      "cell_type": "code",
      "source": [
        "import requests\n",
        "import os\n",
        "import json\n",
        "\n",
        "# Load filtered4 from the filtered4.json file\n",
        "with open('/content/filterd4.json', 'r') as f:\n",
        "    filtered4 = json.load(f)\n",
        "\n",
        "# Create the 'images' folder if it doesn't exist\n",
        "if not os.path.exists('images'):\n",
        "    os.makedirs('images')\n",
        "\n",
        "# Create a new attribute 'images' for each record in filtered4\n",
        "for record in filtered4:\n",
        "    # Download the image from the imageURL\n",
        "    imageURL = record['imageURL']\n",
        "    if isinstance(imageURL, list):\n",
        "        imageURL = imageURL[0]\n",
        "    if not imageURL.startswith('http'):\n",
        "        imageURL = 'http://' + imageURL\n",
        "    response = requests.get(imageURL)\n",
        "    image_path = os.path.join(\"images\", imageURL.split(\"/\")[-1])\n",
        "    # Save the image to the 'images' folder\n",
        "    with open(image_path, 'wb') as f:\n",
        "        f.write(response.content)\n",
        "    # Add the image path to the 'images' attribute\n",
        "    record['images'] = [image_path]\n",
        "\n",
        "# Save the updated dataset as filtered5\n",
        "with open('filtered5.json', 'w') as f:\n",
        "    json.dump(filtered4, f)\n"
      ],
      "metadata": {
        "id": "m5Gr00JWwshZ"
      },
      "execution_count": 29,
      "outputs": []
    },
    {
      "cell_type": "code",
      "source": [
        "import json\n",
        "\n",
        "# Open the filtered dataset file for reading\n",
        "with open('filtered5.json', 'r') as f:\n",
        "\n",
        "    # Load the JSON data\n",
        "    data = json.load(f)\n",
        "\n",
        "# Print the first record\n",
        "print(data[0])"
      ],
      "metadata": {
        "colab": {
          "base_uri": "https://localhost:8080/"
        },
        "id": "OBb0OpKH7936",
        "outputId": "6d9c06a9-d928-4b77-f1d4-2eec3f9987ee"
      },
      "execution_count": 31,
      "outputs": [
        {
          "output_type": "stream",
          "name": "stdout",
          "text": [
            "{'category': ['Grocery & Gourmet Food', 'Cooking & Baking', 'Frosting, Icing & Decorations', 'Frostings & Icings'], 'description': ['Wilton-color mist food color spray. This easy-to-use spray gives decorators the versatility and dazzling effects of an airbrush in a convenient can! creates a rainbow of excitement for so many desserts. Use it to transform a plain Iced cake with sensational color add splashes of holiday color to Iced cookies and cupcakes. Great for party desserts: highlighting whipped topping or ice cream with color. No mess taste-free formula add a little color or a lot. Certified kosher. 1-1/2 oz can. Available in a variety of colors: each sold separately. Made in USA.'], 'title': 'Wilton 710-5506 Color Mist Spray 1.5oz, Black', 'also_buy': ['B01G2FVPEG', 'B007EMYHB0', 'B01E07USC8', 'B003YJ14OU', 'B00IE72K04', 'B00IE6Y6J8', 'B0000CFN7Q', 'B00PR3GAY0', 'B00F6ARC1E', 'B003KK42V0', 'B00LX3FQ5C', 'B000FRUNL4', 'B00AV4Y40W', 'B078K643X6', 'B006NV880O', 'B0000A1OEK', 'B003KK9HD8', 'B005FCOUOA', 'B000W5CGR8', 'B00IE72SWY', 'B00129JSSI', 'B00IE72KRW', 'B0000VLH8S', 'B0017JVH5A', 'B0061TXSOE', 'B00TM6WZO2', 'B00GXT16G4', 'B00AEHO3VG', 'B01E0JZNGM', 'B0016KTNF6', 'B0000VM9EE', 'B017MUOPBK', 'B0000CFN0Y', 'B0000AE5ZF', 'B012ECUEWA'], 'brand': 'Wilton', 'feature': ['1.5 oz. Can', 'Certified kosher', 'Made in united states'], 'rank': ['>#23,386 in Kitchen & Dining (See Top 100 in Kitchen & Dining)', '>#31 in Grocery & Gourmet Food > Cooking & Baking > Frosting, Icing & Decorations > Frostings & Icings', '>#32,027 in Home & Kitchen > Kitchen & Dining'], 'also_view': ['B071H8WHWF', 'B072DWSQTH', 'B0046DAWZU', 'B0033LVD40', 'B0046CKTPE', 'B07843LJF5', 'B077NXN17B', 'B0716CMRJW', 'B07192XF5F', 'B07DWKPV2G', 'B000VTBFKE', 'B001OZS2ZA', 'B00IE727OI', 'B07K52186M', 'B001WT22AE', 'B07DWKS299', 'B01N16KIKC', 'B07KZ9F1H7', 'B078K643X6', 'B002XN1YUW', 'B003KK9HD8', 'B00CI1W5JI', 'B078964QTV', 'B003YJ14OU', 'B00IE6Y6J8', 'B007KBBDLC', 'B003YJ14QS', 'B0001XXB02', 'B073Y8JX1B', 'B001T4OOOE', 'B002XN5HPU', 'B07875JHK9', 'B0001W6NTO', 'B00QT6WTIA', 'B006NV880O', 'B073Y8THL3', 'B00CRJA5N4', 'B00076TQ1G', 'B0000AE5ZF', 'B0000CFN0Y', 'B07CVCV9M1', 'B00IE72JT6', 'B01G2FVPEG', 'B006K3RKEU', 'B07KZQSCCD'], 'main_cat': 'Amazon Home', 'similar_item': '', 'date': 'March 10, 2004', 'price': '$3.00', 'asin': 'B0000CFH7B', 'imageURL': ['https://images-na.ssl-images-amazon.com/images/I/41gC2lzKjYL._SS36_.jpg', 'https://images-na.ssl-images-amazon.com/images/I/41U6znBwEBL._SS36_.jpg', 'https://images-na.ssl-images-amazon.com/images/I/41813koDosL._SS36_.jpg', 'https://images-na.ssl-images-amazon.com/images/I/41KkAuTVvdL._SS36_.jpg', 'https://images-na.ssl-images-amazon.com/images/I/31yO%2Bh6DeaL._SS36_.jpg', 'https://images-na.ssl-images-amazon.com/images/I/41uaUE7ELwL._SS36_.jpg', 'https://images-na.ssl-images-amazon.com/images/I/41EpMFiSVXL._SS36_.jpg', 'https://images-na.ssl-images-amazon.com/images/I/31VcTjdz4EL._SS36_.jpg', 'https://images-na.ssl-images-amazon.com/images/I/31NGuVAp12L._SS36_.jpg', 'https://images-na.ssl-images-amazon.com/images/I/31NGuVAp12L._SS36_.jpg', 'https://images-na.ssl-images-amazon.com/images/I/31C%2BnjEeakL._SS36_.jpg'], 'imageURLHighRes': ['https://images-na.ssl-images-amazon.com/images/I/41gC2lzKjYL.jpg', 'https://images-na.ssl-images-amazon.com/images/I/41U6znBwEBL.jpg', 'https://images-na.ssl-images-amazon.com/images/I/41813koDosL.jpg', 'https://images-na.ssl-images-amazon.com/images/I/41KkAuTVvdL.jpg', 'https://images-na.ssl-images-amazon.com/images/I/31yO%2Bh6DeaL.jpg', 'https://images-na.ssl-images-amazon.com/images/I/41uaUE7ELwL.jpg', 'https://images-na.ssl-images-amazon.com/images/I/41EpMFiSVXL.jpg', 'https://images-na.ssl-images-amazon.com/images/I/31VcTjdz4EL.jpg', 'https://images-na.ssl-images-amazon.com/images/I/31NGuVAp12L.jpg', 'https://images-na.ssl-images-amazon.com/images/I/31NGuVAp12L.jpg', 'https://images-na.ssl-images-amazon.com/images/I/31C%2BnjEeakL.jpg'], 'images': ['images/41gC2lzKjYL._SS36_.jpg']}\n"
          ]
        }
      ]
    }
  ]
}