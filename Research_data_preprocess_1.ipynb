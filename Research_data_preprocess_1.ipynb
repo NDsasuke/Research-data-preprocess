{
  "nbformat": 4,
  "nbformat_minor": 0,
  "metadata": {
    "colab": {
      "provenance": []
    },
    "kernelspec": {
      "name": "python3",
      "display_name": "Python 3"
    },
    "language_info": {
      "name": "python"
    },
    "gpuClass": "standard",
    "accelerator": "TPU"
  },
  "cells": [
    {
      "cell_type": "code",
      "execution_count": 2,
      "metadata": {
        "id": "U0yi0fMNHfbw"
      },
      "outputs": [],
      "source": [
        "import os\n",
        "import json\n",
        "import gzip\n",
        "import pandas as pd\n",
        "from urllib.request import urlopen"
      ]
    },
    {
      "cell_type": "code",
      "source": [
        "!wget https://jmcauley.ucsd.edu/data/amazon_v2/metaFiles/All_Amazon_Meta.json.gz --no-check-certificate"
      ],
      "metadata": {
        "colab": {
          "base_uri": "https://localhost:8080/"
        },
        "id": "V8EYodcTH9da",
        "outputId": "259b7a40-f088-4b89-c8fb-d431e6eb5e62"
      },
      "execution_count": 2,
      "outputs": [
        {
          "output_type": "stream",
          "name": "stdout",
          "text": [
            "--2023-03-12 09:22:21--  https://jmcauley.ucsd.edu/data/amazon_v2/metaFiles/All_Amazon_Meta.json.gz\n",
            "Resolving jmcauley.ucsd.edu (jmcauley.ucsd.edu)... 137.110.160.73\n",
            "Connecting to jmcauley.ucsd.edu (jmcauley.ucsd.edu)|137.110.160.73|:443... connected.\n",
            "WARNING: cannot verify jmcauley.ucsd.edu's certificate, issued by ‘CN=InCommon RSA Server CA,OU=InCommon,O=Internet2,L=Ann Arbor,ST=MI,C=US’:\n",
            "  Unable to locally verify the issuer's authority.\n",
            "HTTP request sent, awaiting response... 200 OK\n",
            "Length: 12327618560 (11G) [application/x-gzip]\n",
            "Saving to: ‘All_Amazon_Meta.json.gz’\n",
            "\n",
            "All_Amazon_Meta.jso 100%[===================>]  11.48G  58.1MB/s    in 3m 25s  \n",
            "\n",
            "2023-03-12 09:25:46 (57.3 MB/s) - ‘All_Amazon_Meta.json.gz’ saved [12327618560/12327618560]\n",
            "\n"
          ]
        }
      ]
    },
    {
      "cell_type": "code",
      "source": [
        "from google.colab import drive\n",
        "import shutil\n",
        "\n",
        "# Path of the file in Colab instance\n",
        "colab_path = '/content/All_Amazon_Meta.json.gz'\n",
        "\n",
        "# Path of the file in Google Drive\n",
        "gdrive_path = '/content/drive/MyDrive/Research/Dataset/All_Amazon_Meta.json.gz'\n",
        "\n",
        "# Copy the file from Colab to Google Drive\n",
        "shutil.copy(colab_path, gdrive_path)\n",
        "print('File copied to', gdrive_path)\n"
      ],
      "metadata": {
        "colab": {
          "base_uri": "https://localhost:8080/"
        },
        "id": "vhzntDAEwvsM",
        "outputId": "b1437cdc-e4f5-4d16-82d9-4a7a4cde3dad"
      },
      "execution_count": 3,
      "outputs": [
        {
          "output_type": "stream",
          "name": "stdout",
          "text": [
            "File copied to /content/drive/MyDrive/Research/Dataset/All_Amazon_Meta.json.gz\n"
          ]
        }
      ]
    },
    {
      "cell_type": "code",
      "source": [
        "### load the meta data\n",
        "\n",
        "import subprocess\n",
        "import json\n",
        "\n",
        "# Extract the compressed file using 7zip\n",
        "subprocess.run(['7z', 'e', '-o/content/', '/content/drive/MyDrive/Research/Dataset/All_Amazon_Meta.json.gz'])\n",
        "\n",
        "\n"
      ],
      "metadata": {
        "colab": {
          "base_uri": "https://localhost:8080/"
        },
        "id": "dk7TWnR8x72V",
        "outputId": "1355aee6-906d-4cee-b3f1-809d586de7c8"
      },
      "execution_count": 1,
      "outputs": [
        {
          "output_type": "execute_result",
          "data": {
            "text/plain": [
              "CompletedProcess(args=['7z', 'e', '-o/content/', '/content/drive/MyDrive/Research/Dataset/All_Amazon_Meta.json.gz'], returncode=2)"
            ]
          },
          "metadata": {},
          "execution_count": 1
        }
      ]
    },
    {
      "cell_type": "code",
      "source": [
        "import subprocess\n",
        "import json\n",
        "\n",
        "# Load the metadata from the extracted JSON file\n",
        "data = []\n",
        "with open('/content/All_Amazon_Meta.json', 'r') as f:\n",
        "    for line in f:\n",
        "        data.append(json.loads(line.strip()))\n",
        "\n",
        "# Print the length of the data list and the first row\n",
        "print(len(data))\n",
        "print(data[0])"
      ],
      "metadata": {
        "id": "F1M7-_WYPdzy"
      },
      "execution_count": null,
      "outputs": []
    },
    {
      "cell_type": "code",
      "source": [
        "import json\n",
        "import os\n",
        "\n",
        "# Load the JSON file\n",
        "with open('/content/All_Amazon_Meta.json') as f:\n",
        "    data = json.load(f)\n",
        "\n",
        "# Filter out records with a date before 2013\n",
        "data = [record for record in data if int(record['date'][-4:]) >= 2013]\n",
        "\n",
        "# Create directory to save filtered data if it does not exist\n",
        "if not os.path.exists('/content/drive/MyDrive/Research/Dataset/'):\n",
        "    os.makedirs('/content/drive/MyDrive/Research/Dataset/')\n",
        "\n",
        "# Write the filtered data to a new JSON file\n",
        "with open('/content/drive/MyDrive/Research/Dataset/Filtered_Amazon_Meta.json', 'w') as f:\n",
        "    json.dump(data, f)"
      ],
      "metadata": {
        "id": "hCBsziMtSc_r"
      },
      "execution_count": null,
      "outputs": []
    },
    {
      "cell_type": "code",
      "source": [
        "!apt-get install p7zip-full"
      ],
      "metadata": {
        "colab": {
          "base_uri": "https://localhost:8080/"
        },
        "id": "ByRW_b3R5AW3",
        "outputId": "3da1da4c-49bc-42ef-fb71-13c51c187782"
      },
      "execution_count": 2,
      "outputs": [
        {
          "output_type": "stream",
          "name": "stdout",
          "text": [
            "Reading package lists... Done\n",
            "Building dependency tree       \n",
            "Reading state information... Done\n",
            "p7zip-full is already the newest version (16.02+dfsg-7build1).\n",
            "0 upgraded, 0 newly installed, 0 to remove and 22 not upgraded.\n"
          ]
        }
      ]
    }
  ]
}